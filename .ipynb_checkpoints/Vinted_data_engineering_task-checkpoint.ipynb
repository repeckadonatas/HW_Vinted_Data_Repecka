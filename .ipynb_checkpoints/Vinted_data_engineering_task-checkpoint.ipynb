{
 "cells": [
  {
   "cell_type": "markdown",
   "metadata": {},
   "source": [
    "### Opening the data to check it before continuing forward"
   ]
  },
  {
   "cell_type": "markdown",
   "metadata": {},
   "source": [
    "##### Checking the files in `data/clicks` and `data/users` folders"
   ]
  },
  {
   "cell_type": "code",
   "execution_count": 840,
   "metadata": {},
   "outputs": [
    {
     "data": {
      "text/plain": [
       "['part-001.csv', 'part-002.csv', 'part-003.csv', 'part-004.csv']"
      ]
     },
     "execution_count": 840,
     "metadata": {},
     "output_type": "execute_result"
    }
   ],
   "source": [
    "import os\n",
    "\n",
    "# looking at a list of all files in data/clicks folder\n",
    "clicks_list = os.listdir(clicks_path)\n",
    "clicks_list"
   ]
  },
  {
   "cell_type": "code",
   "execution_count": 841,
   "metadata": {},
   "outputs": [
    {
     "data": {
      "text/plain": [
       "['part-001.csv', 'part-002.csv']"
      ]
     },
     "execution_count": 841,
     "metadata": {},
     "output_type": "execute_result"
    }
   ],
   "source": [
    "# looking at a list of all files in data/users folder\n",
    "users_list = os.listdir(users_path)\n",
    "users_list"
   ]
  },
  {
   "cell_type": "code",
   "execution_count": 842,
   "metadata": {},
   "outputs": [],
   "source": [
    "from csv import reader\n",
    "\n",
    "clicks_path = 'D:/Vinted data engineering task/data/clicks/'\n",
    "users_path = 'D:/Vinted data engineering task/data/users/'\n",
    "path_save = 'D:/Vinted data engineering task/'\n",
    "\n",
    "def lookup(path, file_name):\n",
    "    with open(path + file_name, 'r', encoding='utf8') as f:\n",
    "        read_file = reader(f)\n",
    "        dataset = list(read_file)\n",
    "        header = dataset[0]\n",
    "#         dataset = dataset[1:]\n",
    "        \n",
    "        print('Number of rows:', len(dataset))\n",
    "        print('Number of columns:', len(dataset[0]))\n",
    "    \n",
    "    return dataset"
   ]
  },
  {
   "cell_type": "markdown",
   "metadata": {},
   "source": [
    "##### Checking the contents of the dataset"
   ]
  },
  {
   "cell_type": "code",
   "execution_count": 843,
   "metadata": {},
   "outputs": [],
   "source": [
    "def explore_data(dataset, start, end):\n",
    "    dataset_slice = dataset[start:end]    \n",
    "    for row in dataset_slice:\n",
    "        print(row, '\\n')"
   ]
  },
  {
   "cell_type": "markdown",
   "metadata": {},
   "source": [
    "##### To check any file from `/data` folder, pass the necessary path variable with the name of the file"
   ]
  },
  {
   "cell_type": "code",
   "execution_count": 844,
   "metadata": {},
   "outputs": [
    {
     "name": "stdout",
     "output_type": "stream",
     "text": [
      "Number of rows: 12\n",
      "Number of columns: 3\n",
      "['date', 'user_id', 'click_target'] \n",
      "\n",
      "['2017-12-15', '4', 'item'] \n",
      "\n",
      "['2017-12-15', '4', 'ad'] \n",
      "\n",
      "['2017-12-12', '4', 'profile'] \n",
      "\n",
      "['2017-12-13', '4', 'profile'] \n",
      "\n"
     ]
    }
   ],
   "source": [
    "clicks1_dt = lookup(clicks_path, 'part-001.csv')\n",
    "clicks1_explore = explore_data(clicks1_dt, 0, 5)"
   ]
  },
  {
   "cell_type": "markdown",
   "metadata": {},
   "source": [
    "## Task #1: use implemented map-reduce framework for aggregation.\n",
    "\n",
    "Having in mind `data/clicks` dataset with \"date\" column, count how many clicks there were for each date and write the results to `data/total_clicks` dataset with \"date\" and \"count\" columns."
   ]
  },
  {
   "cell_type": "markdown",
   "metadata": {},
   "source": [
    "##### To prepare for aggregation of data from `data/clicks`, we first take a look at how many files there are to help us choose any file if needed easier later:"
   ]
  },
  {
   "cell_type": "code",
   "execution_count": 845,
   "metadata": {},
   "outputs": [
    {
     "data": {
      "text/plain": [
       "['part-001.csv', 'part-002.csv', 'part-003.csv', 'part-004.csv']"
      ]
     },
     "execution_count": 845,
     "metadata": {},
     "output_type": "execute_result"
    }
   ],
   "source": [
    "# looking at a list of all files in data/clicks folder\n",
    "clicks_list = os.listdir(clicks_path)\n",
    "clicks_list"
   ]
  },
  {
   "cell_type": "markdown",
   "metadata": {},
   "source": [
    "### Counting clicks for each date in any file in `data/clicks`"
   ]
  },
  {
   "cell_type": "markdown",
   "metadata": {},
   "source": [
    "##### This function works as a mapper:"
   ]
  },
  {
   "cell_type": "code",
   "execution_count": 826,
   "metadata": {},
   "outputs": [],
   "source": [
    "def key_pair(dataset):    \n",
    "    freq_table = {}\n",
    "    for row in dataset[1:]:\n",
    "        date = row[0]\n",
    "        if date in freq_table:\n",
    "            freq_table[date] += 1\n",
    "        else:\n",
    "            freq_table[date] = 1\n",
    "            \n",
    "    return freq_table"
   ]
  },
  {
   "cell_type": "markdown",
   "metadata": {},
   "source": [
    "##### To count clicks of any file from `data/clicks` folder, pass the necessary path variable with the name of the file"
   ]
  },
  {
   "cell_type": "code",
   "execution_count": 846,
   "metadata": {},
   "outputs": [
    {
     "name": "stdout",
     "output_type": "stream",
     "text": [
      "Number of rows: 12\n",
      "Number of columns: 3\n",
      "['date', 'user_id', 'click_target'] \n",
      "\n",
      "['2017-12-15', '4', 'item'] \n",
      "\n",
      "['2017-12-15', '4', 'ad'] \n",
      "\n",
      "['2017-12-12', '4', 'profile'] \n",
      "\n",
      "['2017-12-13', '4', 'profile'] \n",
      "\n",
      "{'2017-12-15': 2, '2017-12-12': 2, '2017-12-13': 2, '2017-12-18': 1, '2017-12-21': 1, '2017-12-17': 1, '2017-12-14': 1, '2017-12-16': 1}\n"
     ]
    }
   ],
   "source": [
    "clicks1_dt = lookup(clicks_path, 'part-001.csv')\n",
    "clicks1_explore = explore_data(clicks1_dt, 0, 5)\n",
    "\n",
    "keypair = key_pair(clicks1_dt)\n",
    "print(keypair)"
   ]
  },
  {
   "cell_type": "markdown",
   "metadata": {},
   "source": [
    "##### Writing the results to `data/total_clicks` dataset with \"date\" and \"count\" columns"
   ]
  },
  {
   "cell_type": "code",
   "execution_count": 847,
   "metadata": {},
   "outputs": [],
   "source": [
    "import pandas as pd\n",
    "\n",
    "totalclicks_df = pd.DataFrame(list(keypair.items()), columns=['Date', 'Count'])\n",
    "\n",
    "totalclicks_df.to_csv('D:/Vinted data engineering task/data/total_clicks.csv')"
   ]
  },
  {
   "cell_type": "markdown",
   "metadata": {},
   "source": [
    "## Task #2: join two datasets using implemented map-reduce framework"
   ]
  },
  {
   "cell_type": "markdown",
   "metadata": {},
   "source": [
    "There are two datasets:\n",
    "\n",
    "* `data/users` dataset with columns \"id\" and \"country\"\n",
    "* `data/clicks` dataset with columns \"date\", \"user_id\" and \"click_target\"\n",
    "\n",
    "Produce a new dataset called `data/filtered_clicks` that includes only those clicks that belong to users from Lithuania (`country=LT`)."
   ]
  },
  {
   "cell_type": "markdown",
   "metadata": {},
   "source": [
    "##### To make it easier to filter \"clicks\" by \"country\", we combine files from `data/users` folder into one file and `data/clicks` folder into one file:"
   ]
  },
  {
   "cell_type": "code",
   "execution_count": 848,
   "metadata": {},
   "outputs": [
    {
     "data": {
      "text/html": [
       "<div>\n",
       "<style scoped>\n",
       "    .dataframe tbody tr th:only-of-type {\n",
       "        vertical-align: middle;\n",
       "    }\n",
       "\n",
       "    .dataframe tbody tr th {\n",
       "        vertical-align: top;\n",
       "    }\n",
       "\n",
       "    .dataframe thead th {\n",
       "        text-align: right;\n",
       "    }\n",
       "</style>\n",
       "<table border=\"1\" class=\"dataframe\">\n",
       "  <thead>\n",
       "    <tr style=\"text-align: right;\">\n",
       "      <th></th>\n",
       "      <th>date</th>\n",
       "      <th>user_id</th>\n",
       "      <th>click_target</th>\n",
       "      <th>screen</th>\n",
       "    </tr>\n",
       "  </thead>\n",
       "  <tbody>\n",
       "    <tr>\n",
       "      <th>0</th>\n",
       "      <td>2017-12-15</td>\n",
       "      <td>4</td>\n",
       "      <td>item</td>\n",
       "      <td>NaN</td>\n",
       "    </tr>\n",
       "    <tr>\n",
       "      <th>1</th>\n",
       "      <td>2017-12-15</td>\n",
       "      <td>4</td>\n",
       "      <td>ad</td>\n",
       "      <td>NaN</td>\n",
       "    </tr>\n",
       "    <tr>\n",
       "      <th>2</th>\n",
       "      <td>2017-12-12</td>\n",
       "      <td>4</td>\n",
       "      <td>profile</td>\n",
       "      <td>NaN</td>\n",
       "    </tr>\n",
       "    <tr>\n",
       "      <th>3</th>\n",
       "      <td>2017-12-13</td>\n",
       "      <td>4</td>\n",
       "      <td>profile</td>\n",
       "      <td>NaN</td>\n",
       "    </tr>\n",
       "    <tr>\n",
       "      <th>4</th>\n",
       "      <td>2017-12-13</td>\n",
       "      <td>4</td>\n",
       "      <td>ad</td>\n",
       "      <td>NaN</td>\n",
       "    </tr>\n",
       "    <tr>\n",
       "      <th>...</th>\n",
       "      <td>...</td>\n",
       "      <td>...</td>\n",
       "      <td>...</td>\n",
       "      <td>...</td>\n",
       "    </tr>\n",
       "    <tr>\n",
       "      <th>95</th>\n",
       "      <td>2017-12-20</td>\n",
       "      <td>7</td>\n",
       "      <td>ad</td>\n",
       "      <td>feed</td>\n",
       "    </tr>\n",
       "    <tr>\n",
       "      <th>96</th>\n",
       "      <td>2017-12-10</td>\n",
       "      <td>7</td>\n",
       "      <td>ad</td>\n",
       "      <td>feed</td>\n",
       "    </tr>\n",
       "    <tr>\n",
       "      <th>97</th>\n",
       "      <td>2017-12-20</td>\n",
       "      <td>7</td>\n",
       "      <td>profile</td>\n",
       "      <td>feed</td>\n",
       "    </tr>\n",
       "    <tr>\n",
       "      <th>98</th>\n",
       "      <td>2017-12-17</td>\n",
       "      <td>7</td>\n",
       "      <td>item</td>\n",
       "      <td>catalog</td>\n",
       "    </tr>\n",
       "    <tr>\n",
       "      <th>99</th>\n",
       "      <td>2017-12-12</td>\n",
       "      <td>3</td>\n",
       "      <td>ad</td>\n",
       "      <td>feed</td>\n",
       "    </tr>\n",
       "  </tbody>\n",
       "</table>\n",
       "<p>100 rows × 4 columns</p>\n",
       "</div>"
      ],
      "text/plain": [
       "          date  user_id click_target   screen\n",
       "0   2017-12-15        4         item      NaN\n",
       "1   2017-12-15        4           ad      NaN\n",
       "2   2017-12-12        4      profile      NaN\n",
       "3   2017-12-13        4      profile      NaN\n",
       "4   2017-12-13        4           ad      NaN\n",
       "..         ...      ...          ...      ...\n",
       "95  2017-12-20        7           ad     feed\n",
       "96  2017-12-10        7           ad     feed\n",
       "97  2017-12-20        7      profile     feed\n",
       "98  2017-12-17        7         item  catalog\n",
       "99  2017-12-12        3           ad     feed\n",
       "\n",
       "[100 rows x 4 columns]"
      ]
     },
     "execution_count": 848,
     "metadata": {},
     "output_type": "execute_result"
    }
   ],
   "source": [
    "# Combining all files in data/clicks folder into a single file\n",
    "\n",
    "df_concat_clicks = pd.concat([pd.read_csv(f'{clicks_path}{clicks_list}') \n",
    "                              for clicks_list in clicks_list], ignore_index=True)\n",
    "df_concat_clicks"
   ]
  },
  {
   "cell_type": "code",
   "execution_count": 830,
   "metadata": {},
   "outputs": [],
   "source": [
    "# df_concat_clicks.to_csv('D:/Vinted data engineering task/concat_clicks.csv')"
   ]
  },
  {
   "cell_type": "code",
   "execution_count": 849,
   "metadata": {},
   "outputs": [
    {
     "data": {
      "text/html": [
       "<div>\n",
       "<style scoped>\n",
       "    .dataframe tbody tr th:only-of-type {\n",
       "        vertical-align: middle;\n",
       "    }\n",
       "\n",
       "    .dataframe tbody tr th {\n",
       "        vertical-align: top;\n",
       "    }\n",
       "\n",
       "    .dataframe thead th {\n",
       "        text-align: right;\n",
       "    }\n",
       "</style>\n",
       "<table border=\"1\" class=\"dataframe\">\n",
       "  <thead>\n",
       "    <tr style=\"text-align: right;\">\n",
       "      <th></th>\n",
       "      <th>id</th>\n",
       "      <th>country</th>\n",
       "      <th>city</th>\n",
       "    </tr>\n",
       "  </thead>\n",
       "  <tbody>\n",
       "    <tr>\n",
       "      <th>0</th>\n",
       "      <td>1</td>\n",
       "      <td>LT</td>\n",
       "      <td>NaN</td>\n",
       "    </tr>\n",
       "    <tr>\n",
       "      <th>1</th>\n",
       "      <td>2</td>\n",
       "      <td>DE</td>\n",
       "      <td>NaN</td>\n",
       "    </tr>\n",
       "    <tr>\n",
       "      <th>2</th>\n",
       "      <td>3</td>\n",
       "      <td>LT</td>\n",
       "      <td>NaN</td>\n",
       "    </tr>\n",
       "    <tr>\n",
       "      <th>3</th>\n",
       "      <td>100</td>\n",
       "      <td>LT</td>\n",
       "      <td>NaN</td>\n",
       "    </tr>\n",
       "    <tr>\n",
       "      <th>4</th>\n",
       "      <td>200</td>\n",
       "      <td>DE</td>\n",
       "      <td>NaN</td>\n",
       "    </tr>\n",
       "    <tr>\n",
       "      <th>5</th>\n",
       "      <td>300</td>\n",
       "      <td>LT</td>\n",
       "      <td>NaN</td>\n",
       "    </tr>\n",
       "    <tr>\n",
       "      <th>6</th>\n",
       "      <td>4</td>\n",
       "      <td>LT</td>\n",
       "      <td>Vilnius</td>\n",
       "    </tr>\n",
       "    <tr>\n",
       "      <th>7</th>\n",
       "      <td>5</td>\n",
       "      <td>DE</td>\n",
       "      <td>Berlin</td>\n",
       "    </tr>\n",
       "    <tr>\n",
       "      <th>8</th>\n",
       "      <td>6</td>\n",
       "      <td>DE</td>\n",
       "      <td>Munich</td>\n",
       "    </tr>\n",
       "    <tr>\n",
       "      <th>9</th>\n",
       "      <td>101</td>\n",
       "      <td>DE</td>\n",
       "      <td>Hamburg</td>\n",
       "    </tr>\n",
       "    <tr>\n",
       "      <th>10</th>\n",
       "      <td>102</td>\n",
       "      <td>LT</td>\n",
       "      <td>Kaunas</td>\n",
       "    </tr>\n",
       "    <tr>\n",
       "      <th>11</th>\n",
       "      <td>103</td>\n",
       "      <td>LT</td>\n",
       "      <td>Vilnius</td>\n",
       "    </tr>\n",
       "  </tbody>\n",
       "</table>\n",
       "</div>"
      ],
      "text/plain": [
       "     id country     city\n",
       "0     1      LT      NaN\n",
       "1     2      DE      NaN\n",
       "2     3      LT      NaN\n",
       "3   100      LT      NaN\n",
       "4   200      DE      NaN\n",
       "5   300      LT      NaN\n",
       "6     4      LT  Vilnius\n",
       "7     5      DE   Berlin\n",
       "8     6      DE   Munich\n",
       "9   101      DE  Hamburg\n",
       "10  102      LT   Kaunas\n",
       "11  103      LT  Vilnius"
      ]
     },
     "execution_count": 849,
     "metadata": {},
     "output_type": "execute_result"
    }
   ],
   "source": [
    "# Combining all files in data/users folder into a single file\n",
    "\n",
    "df_concat_users = pd.concat([pd.read_csv(f'{users_path}{users_list}') \n",
    "                              for users_list in users_list], ignore_index=True)\n",
    "df_concat_users"
   ]
  },
  {
   "cell_type": "markdown",
   "metadata": {},
   "source": [
    "##### Combining \"users\" and \"clicks\" datasets to one:"
   ]
  },
  {
   "cell_type": "code",
   "execution_count": 851,
   "metadata": {},
   "outputs": [
    {
     "name": "stdout",
     "output_type": "stream",
     "text": [
      "Result:\n",
      "           date  user_id click_target   screen  id country     city\n",
      "0   2017-12-15        4         item      NaN   4      LT  Vilnius\n",
      "1   2017-12-15        4           ad      NaN   4      LT  Vilnius\n",
      "2   2017-12-12        4      profile      NaN   4      LT  Vilnius\n",
      "3   2017-12-13        4      profile      NaN   4      LT  Vilnius\n",
      "4   2017-12-13        4           ad      NaN   4      LT  Vilnius\n",
      "..         ...      ...          ...      ...  ..     ...      ...\n",
      "71  2017-12-11        3           ad     feed   3      LT      NaN\n",
      "72  2017-12-15        3         item  catalog   3      LT      NaN\n",
      "73  2017-12-20        3      profile  catalog   3      LT      NaN\n",
      "74  2017-12-16        3           ad  catalog   3      LT      NaN\n",
      "75  2017-12-12        3           ad     feed   3      LT      NaN\n",
      "\n",
      "[76 rows x 7 columns]\n"
     ]
    }
   ],
   "source": [
    "data1 = df_concat_clicks\n",
    "data2 = df_concat_users\n",
    "\n",
    "df1 = pd.DataFrame(data1)\n",
    "df2 = pd.DataFrame(data2)\n",
    "\n",
    "# Merging two DataFrames\n",
    "df3 = pd.merge(df1, df2, left_on='user_id', right_on='id')\n",
    "\n",
    "# Display result\n",
    "print(\"Result:\\n\",df3)\n",
    "# print('Length of dataframe:', len(df3))\n",
    "\n",
    "df3.to_csv('D:/Vinted data engineering task/users_clicks.csv')"
   ]
  },
  {
   "cell_type": "markdown",
   "metadata": {},
   "source": [
    "##### Inspecting the new dataset:"
   ]
  },
  {
   "cell_type": "code",
   "execution_count": 834,
   "metadata": {
    "scrolled": true
   },
   "outputs": [
    {
     "name": "stdout",
     "output_type": "stream",
     "text": [
      "Number of rows: 77\n",
      "Number of columns: 8\n",
      "['', 'date', 'user_id', 'click_target', 'screen', 'id', 'country', 'city'] \n",
      "\n",
      "['0', '2017-12-15', '4', 'item', '', '4', 'LT', 'Vilnius'] \n",
      "\n",
      "['1', '2017-12-15', '4', 'ad', '', '4', 'LT', 'Vilnius'] \n",
      "\n",
      "['2', '2017-12-12', '4', 'profile', '', '4', 'LT', 'Vilnius'] \n",
      "\n",
      "['3', '2017-12-13', '4', 'profile', '', '4', 'LT', 'Vilnius'] \n",
      "\n"
     ]
    }
   ],
   "source": [
    "df3_dt = lookup(path_save, 'users_clicks.csv')\n",
    "df3_explore = explore_data(df3_dt, 0, 5)"
   ]
  },
  {
   "cell_type": "markdown",
   "metadata": {},
   "source": [
    "### Getting a number of clicks based on a country"
   ]
  },
  {
   "cell_type": "markdown",
   "metadata": {},
   "source": [
    "##### This function works as a reducer:"
   ]
  },
  {
   "cell_type": "code",
   "execution_count": 836,
   "metadata": {},
   "outputs": [],
   "source": [
    "def counting_clicks(dataset, country):\n",
    "    \n",
    "    click_freq_table = {}\n",
    "    for row in dataset[1:]:\n",
    "        date = row[1]\n",
    "        country_name = row[6]\n",
    "        if date in click_freq_table and country_name == country:\n",
    "            click_freq_table[date] += 1\n",
    "        else:\n",
    "            click_freq_table[date] = 1\n",
    "#         print(click_freq_table)\n",
    "    \n",
    "    return click_freq_table"
   ]
  },
  {
   "cell_type": "markdown",
   "metadata": {},
   "source": [
    "##### Here we pass a combined file of \"users\" and \"clicks\" and filter the results by \"country\":"
   ]
  },
  {
   "cell_type": "code",
   "execution_count": 852,
   "metadata": {},
   "outputs": [
    {
     "name": "stdout",
     "output_type": "stream",
     "text": [
      "Clicks per country:\n",
      "{'2017-12-15': 2, '2017-12-12': 3, '2017-12-13': 1, '2017-12-18': 1, '2017-12-21': 2, '2017-12-17': 3, '2017-12-14': 1, '2017-12-16': 3, '2017-12-11': 2, '2017-12-20': 3, '2017-12-19': 3, '2017-12-10': 1}\n"
     ]
    }
   ],
   "source": [
    "freq_count = counting_clicks(df3_dt, 'LT')\n",
    "print('Clicks per country:')\n",
    "print(freq_count)"
   ]
  },
  {
   "cell_type": "code",
   "execution_count": 853,
   "metadata": {},
   "outputs": [],
   "source": [
    "filteredclicks_df = pd.DataFrame(list(freq_count.items()), columns=['Date', 'Count'])\n",
    "\n",
    "filteredclicks_df.to_csv('D:/Vinted data engineering task/data/filtered_clicks.csv')"
   ]
  },
  {
   "cell_type": "markdown",
   "metadata": {},
   "source": [
    "##### To check if the reducer worked correctly:"
   ]
  },
  {
   "cell_type": "code",
   "execution_count": null,
   "metadata": {},
   "outputs": [],
   "source": [
    "# counted_df = pd.crosstab(df3['date'], df3['country'])\n",
    "# print(counted_df)\n",
    "# counted_df.to_csv('D:/Vinted data engineering task/data/filtered_clicks.csv')"
   ]
  }
 ],
 "metadata": {
  "kernelspec": {
   "display_name": "Python 3",
   "language": "python",
   "name": "python3"
  },
  "language_info": {
   "codemirror_mode": {
    "name": "ipython",
    "version": 3
   },
   "file_extension": ".py",
   "mimetype": "text/x-python",
   "name": "python",
   "nbconvert_exporter": "python",
   "pygments_lexer": "ipython3",
   "version": "3.8.5"
  }
 },
 "nbformat": 4,
 "nbformat_minor": 4
}
